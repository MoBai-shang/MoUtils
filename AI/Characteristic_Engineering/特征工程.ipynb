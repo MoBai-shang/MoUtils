{
 "cells": [
  {
   "cell_type": "markdown",
   "metadata": {},
   "source": [
    "# 结果可视化"
   ]
  },
  {
   "cell_type": "code",
   "execution_count": null,
   "metadata": {},
   "outputs": [],
   "source": [
    "import matplotlib.pyplot as plt\n",
    "plt.style.use('ggplot')  #风格设置近似R这种的ggplot库\n",
    "import seaborn as sns\n",
    "sns.set_style('whitegrid')\n",
    "\n",
    "def drawpearson(data):\n",
    "    colormap = plt.cm.viridis\n",
    "    plt.figure(figsize=(12,12))\n",
    "    plt.title('Pearson Correlation of Features', y=1.05, size=15)\n",
    "    sns.heatmap(\n",
    "        data[data.columns].corr(),linewidths=0.1,vmax=1.0, square=True, cmap=colormap, linecolor='white', annot=True)"
   ]
  },
  {
   "cell_type": "markdown",
   "metadata": {},
   "source": [
    "> ## 特征选择"
   ]
  },
  {
   "cell_type": "markdown",
   "metadata": {},
   "source": [
    "### 皮尔逊相关性"
   ]
  },
  {
   "cell_type": "code",
   "execution_count": 22,
   "metadata": {},
   "outputs": [
    {
     "name": "stdout",
     "output_type": "stream",
     "text": [
      "          n    r       CI95%  p-val BF10  power\n",
      "pearson  15  1.0  [1.0, 1.0]    0.0  inf      1\n",
      "          n         r         CI95%     p-val      BF10     power\n",
      "pearson  15  0.910622  [0.75, 0.97]  0.000002  6952.199  0.999718\n"
     ]
    }
   ],
   "source": [
    "import numpy as np\n",
    "import pingouin as pg\n",
    "\n",
    "np.random.seed(123)\n",
    "mean, cov, n = [4, 5], [(1, .6), (.6, 1)], 30\n",
    "x, y = np.random.multivariate_normal(mean, cov, n).T\n",
    "x=np.arange(15)\n",
    "y=x*3\n",
    "print(pg.corr(x, y))\n",
    "x=np.arange(15)\n",
    "y=x**3\n",
    "print(pg.corr(x, y))"
   ]
  },
  {
   "cell_type": "markdown",
   "metadata": {},
   "source": [
    "### 鲁棒检验"
   ]
  },
  {
   "cell_type": "code",
   "execution_count": 11,
   "metadata": {},
   "outputs": [
    {
     "data": {
      "text/html": [
       "<div>\n",
       "<style scoped>\n",
       "    .dataframe tbody tr th:only-of-type {\n",
       "        vertical-align: middle;\n",
       "    }\n",
       "\n",
       "    .dataframe tbody tr th {\n",
       "        vertical-align: top;\n",
       "    }\n",
       "\n",
       "    .dataframe thead th {\n",
       "        text-align: right;\n",
       "    }\n",
       "</style>\n",
       "<table border=\"1\" class=\"dataframe\">\n",
       "  <thead>\n",
       "    <tr style=\"text-align: right;\">\n",
       "      <th></th>\n",
       "      <th>n</th>\n",
       "      <th>r</th>\n",
       "      <th>CI95%</th>\n",
       "      <th>p-val</th>\n",
       "    </tr>\n",
       "  </thead>\n",
       "  <tbody>\n",
       "    <tr>\n",
       "      <th>pearson</th>\n",
       "      <td>30</td>\n",
       "      <td>0.568</td>\n",
       "      <td>[0.25, 0.77]</td>\n",
       "      <td>0.001</td>\n",
       "    </tr>\n",
       "  </tbody>\n",
       "</table>\n",
       "</div>"
      ],
      "text/plain": [
       "          n      r         CI95%  p-val\n",
       "pearson  30  0.568  [0.25, 0.77]  0.001"
      ]
     },
     "execution_count": 11,
     "metadata": {},
     "output_type": "execute_result"
    }
   ],
   "source": [
    "#添加一个异常值\n",
    "x[5] = 18\n",
    "#使用Shepherd's pi correlation\n",
    "pg.corr(x, y, method=\"shepherd\")\n",
    "import pingouin as pg\n",
    "df = pg.read_dataset('partial_corr')\n",
    "pg.partial_corr(data=df, x='x', y='y', covar='cv1').round(3)"
   ]
  },
  {
   "cell_type": "markdown",
   "metadata": {},
   "source": [
    "### 离散变量自相关性"
   ]
  },
  {
   "cell_type": "code",
   "execution_count": 1,
   "metadata": {},
   "outputs": [
    {
     "name": "stdout",
     "output_type": "stream",
     "text": [
      "[ 1.         -0.0972973   0.06216216 -0.07567568 -0.38918919]\n"
     ]
    },
    {
     "name": "stderr",
     "output_type": "stream",
     "text": [
      "D:\\Anaconda3\\lib\\site-packages\\statsmodels\\tsa\\stattools.py:657: FutureWarning: The default number of lags is changing from 40 tomin(int(10 * np.log10(nobs)), nobs - 1) after 0.12is released. Set the number of lags to an integer to  silence this warning.\n",
      "  warnings.warn(\n",
      "D:\\Anaconda3\\lib\\site-packages\\statsmodels\\tsa\\stattools.py:667: FutureWarning: fft=True will become the default after the release of the 0.12 release of statsmodels. To suppress this warning, explicitly set fft=False.\n",
      "  warnings.warn(\n"
     ]
    }
   ],
   "source": [
    "import statsmodels.tsa.api as smt\n",
    "\n",
    "\n",
    "time_series = [2, 3, 4, 3, 7]\n",
    "acf = smt.stattools.acf(time_series)\n",
    "print(acf)"
   ]
  },
  {
   "cell_type": "markdown",
   "metadata": {},
   "source": [
    "### 线性互相关"
   ]
  },
  {
   "cell_type": "code",
   "execution_count": 24,
   "metadata": {},
   "outputs": [
    {
     "name": "stdout",
     "output_type": "stream",
     "text": [
      "len a=8,len v=6\n",
      "[103 129 155] 3\n",
      "[103 129 155]\n",
      "[ 32  53  77 103 129 155 127 102] 8\n",
      "[ 32  53  77 103 129 155 127 102]\n",
      "[  6  17  32  53  77 103 129 155 127 102  81  38  16] 13\n",
      "[  6  17  32  53  77 103 129 155 127 102  81  38  16]\n"
     ]
    }
   ],
   "source": [
    "import numpy as np\n",
    "from scipy import signal\n",
    "a=[1,2,3,4,5,6,7,8]\n",
    "v=[2,3,6,4,5,6]\n",
    "\n",
    "'''\n",
    "mode = ‘valid’：只返回有效的那一部分相关数据，共M-N+1个；\n",
    "mode = ‘same’：只返回与等长的那一部分相关数据，共N个；\n",
    "mode = ‘full’：返回全部相关数据，共M+N-1个。\n",
    "'''\n",
    "#以下两个方式调用参数完全相同。在调用时有三种模式可供选择，它们计算的内容是相同的，但是返回值长度各不相同：\n",
    "print('len a=%d,len v=%d'%(len(a),len(v)))\n",
    "for mode in ['valid','same','full']:\n",
    "    print(np.correlate(a, v, mode),len(np.correlate(a, v, mode)))\n",
    "    print(signal.correlate(a, v, mode))\n"
   ]
  },
  {
   "cell_type": "markdown",
   "metadata": {},
   "source": [
    "### SequentialFeatureSelector"
   ]
  },
  {
   "cell_type": "code",
   "execution_count": 12,
   "metadata": {},
   "outputs": [
    {
     "name": "stderr",
     "output_type": "stream",
     "text": [
      "[Parallel(n_jobs=1)]: Using backend SequentialBackend with 1 concurrent workers.\n",
      "[Parallel(n_jobs=1)]: Done   1 out of   1 | elapsed:    0.0s remaining:    0.0s\n",
      "[Parallel(n_jobs=1)]: Done  13 out of  13 | elapsed:    0.0s finished\n",
      "\n",
      "[2021-11-21 12:34:48] Features: 1/4 -- score: 0.8629032258064516[Parallel(n_jobs=1)]: Using backend SequentialBackend with 1 concurrent workers.\n",
      "[Parallel(n_jobs=1)]: Done   1 out of   1 | elapsed:    0.0s remaining:    0.0s\n",
      "[Parallel(n_jobs=1)]: Done  12 out of  12 | elapsed:    0.0s finished\n",
      "\n",
      "[2021-11-21 12:34:48] Features: 2/4 -- score: 0.9596774193548387[Parallel(n_jobs=1)]: Using backend SequentialBackend with 1 concurrent workers.\n",
      "[Parallel(n_jobs=1)]: Done   1 out of   1 | elapsed:    0.0s remaining:    0.0s\n",
      "[Parallel(n_jobs=1)]: Done  11 out of  11 | elapsed:    0.0s finished\n",
      "\n",
      "[2021-11-21 12:34:48] Features: 3/4 -- score: 0.9919354838709677[Parallel(n_jobs=1)]: Using backend SequentialBackend with 1 concurrent workers.\n",
      "[Parallel(n_jobs=1)]: Done   1 out of   1 | elapsed:    0.0s remaining:    0.0s\n",
      "[Parallel(n_jobs=1)]: Done  10 out of  10 | elapsed:    0.0s finished\n",
      "\n",
      "[2021-11-21 12:34:48] Features: 4/4 -- score: 0.9838709677419355"
     ]
    },
    {
     "data": {
      "text/plain": [
       "{1: {'feature_idx': (6,),\n",
       "  'cv_scores': array([0.86290323]),\n",
       "  'avg_score': 0.8629032258064516,\n",
       "  'feature_names': ('6',)},\n",
       " 2: {'feature_idx': (6, 9),\n",
       "  'cv_scores': array([0.95967742]),\n",
       "  'avg_score': 0.9596774193548387,\n",
       "  'feature_names': ('6', '9')},\n",
       " 3: {'feature_idx': (6, 9, 11),\n",
       "  'cv_scores': array([0.99193548]),\n",
       "  'avg_score': 0.9919354838709677,\n",
       "  'feature_names': ('6', '9', '11')},\n",
       " 4: {'feature_idx': (6, 8, 9, 11),\n",
       "  'cv_scores': array([0.98387097]),\n",
       "  'avg_score': 0.9838709677419355,\n",
       "  'feature_names': ('6', '8', '9', '11')}}"
      ]
     },
     "execution_count": 12,
     "metadata": {},
     "output_type": "execute_result"
    }
   ],
   "source": [
    "from mlxtend.feature_selection import SequentialFeatureSelector as SFS\n",
    "from sklearn.neighbors import KNeighborsClassifier\n",
    "from mlxtend.data import wine_data\n",
    "from sklearn.model_selection import train_test_split\n",
    "from sklearn.preprocessing import StandardScaler\n",
    "\n",
    "X, y = wine_data()\n",
    "X_train, X_test, y_train, y_test= train_test_split(X, y, \n",
    "                                                   stratify=y,\n",
    "                                                   test_size=0.3,\n",
    "                                                   random_state=1)\n",
    "std = StandardScaler()\n",
    "X_train_std = std.fit_transform(X_train)\n",
    "\n",
    "knn = KNeighborsClassifier(n_neighbors=3)    # ①\n",
    "sfs = SFS(estimator=knn,     # ②\n",
    "           k_features=4,\n",
    "           forward=True, \n",
    "           floating=False, \n",
    "           verbose=2,\n",
    "           scoring='accuracy',\n",
    "           cv=0)\n",
    "sfs.fit(X_train_std, y_train)\n",
    "sfs.subsets_"
   ]
  },
  {
   "cell_type": "markdown",
   "metadata": {},
   "source": [
    "### 低方差滤波器"
   ]
  },
  {
   "cell_type": "code",
   "execution_count": 1,
   "metadata": {},
   "outputs": [],
   "source": [
    "def LowVarianceFilter(data,feature_column,n_components=-1):\n",
    "    df=data[feature_column]\n",
    "    #归一化\n",
    "    df=df.apply(lambda x: (x - np.min(x)) / (np.max(x) - np.min(x))) \n",
    "    var=df.var()#/np.mean(df)\n",
    "    #print(var)\n",
    "    sort_var=sorted(enumerate(var),key=lambda x:x[1],reverse=True)\n",
    "    cols=[feature_column[it[0]] for it in sort_var][:n_components]\n",
    "    print(var[cols])\n",
    "    return cols"
   ]
  },
  {
   "cell_type": "code",
   "execution_count": 2,
   "metadata": {},
   "outputs": [],
   "source": [
    "#使用VarianceThreshold类进行方差过滤\n",
    "from sklearn.feature_selection import VarianceThreshold\n",
    "def LowVarianceFilter2(data,feature_column,score_column,n_components=-1):\n",
    "    #要生成这个类的对象，就需要一个参数，就是最小方差的阈值，我们先设置为1，然后调用它的transform方法进行特征值的过滤\n",
    "    variancethreshold=VarianceThreshold(threshold=300)\n",
    "    variancethreshold.fit_transform(data[feature_column],data[score_column])\n",
    "    #使用get_support方法，可以得到选择特征列的序号，然后根据这个序号在原始数据中把对应的列名选择出来即可\n",
    "    cols=feature_column[variancethreshold.get_support()].tolist()\n",
    "    print(cols)\n",
    "    return cols\n"
   ]
  },
  {
   "cell_type": "markdown",
   "metadata": {},
   "source": [
    "### 高相关性滤波器"
   ]
  },
  {
   "cell_type": "code",
   "execution_count": 3,
   "metadata": {},
   "outputs": [],
   "source": [
    "#高相关滤波（High Correlation filter）,过滤指标，传入数据喝需要计算的列，如果两个变量之间是高度相关的，这意味着它们具有相似的趋势并且可能携带类似的信息。\n",
    "def HighCorrelationFilter(data,feature_column,n_components=-1):\n",
    "    #计算每个指标的方差\n",
    "    corr = data.loc[:, feature_column].corr()\n",
    "    #print(corr)\n",
    "    corr=corr**2\n",
    "    cor_dict={}\n",
    "    for it in feature_column:\n",
    "        cor_dict[it]=0\n",
    "    for i in feature_column:\n",
    "        for j in feature_column:\n",
    "            cor_dict[i]+=corr[i][j]\n",
    "    sort_cor= sorted(cor_dict.items(),key=lambda x:x[1],reverse=False)[:n_components]\n",
    "    cols=[it[0] for it in sort_cor]\n",
    "    print(cols)\n",
    "    return cols"
   ]
  },
  {
   "cell_type": "markdown",
   "metadata": {},
   "source": [
    "### 相关系数法\n",
    "\n",
    "先计算各个特征对目标值的相关系数，选择更加相关的特征。"
   ]
  },
  {
   "cell_type": "code",
   "execution_count": 4,
   "metadata": {},
   "outputs": [],
   "source": [
    "#SelectKBest类，通过回归的方法，以及要选择多少个特征值，新建一个 SelectKBest对象，\n",
    "from sklearn.feature_selection import SelectKBest\n",
    "from sklearn.feature_selection import f_regression\n",
    "def SelectBestFeature(data,feature_column,score_column,n_components=-1):\n",
    "    if n_components==-1:\n",
    "        n_components=len(feature_column)\n",
    "    selectKBest = SelectKBest(\n",
    "        f_regression,k=n_components\n",
    "    )\n",
    "    #接着，把自变量选择出来，然后调用fit_transform方法，把自变量和因变量传入，即可选出相关度最高的变量。\n",
    "    bestFeature =selectKBest.fit_transform(\n",
    "        data[feature_column],\n",
    "        data[score_column]\n",
    "    )\n",
    "    #我们想要知道选出的自变量的名字，使用get_support方法即可得到相应的列名\n",
    "    cols=feature_column[selectKBest.get_support()].tolist()\n",
    "    print(cols)\n",
    "    return cols"
   ]
  },
  {
   "cell_type": "markdown",
   "metadata": {},
   "source": [
    "### 模型选择法"
   ]
  },
  {
   "cell_type": "code",
   "execution_count": 5,
   "metadata": {},
   "outputs": [],
   "source": [
    "from sklearn.feature_selection import SelectFromModel\n",
    "from sklearn.linear_model import LinearRegression\n",
    "from sklearn.ensemble import GradientBoostingClassifier\n",
    "def SelectFeatureFromModel(data,feature_column,score_column):\n",
    "    #lrModel =LinearRegression()\n",
    "    lrModel=GradientBoostingClassifier(n_estimators=200)\n",
    "    selectFromModel = SelectFromModel(lrModel)\n",
    "    selectFromModel.fit_transform(data[feature_column],data[score_column])\n",
    "    #我们想要知道选出的自变量的名字，使用get_support方法即可得到相应的列名\n",
    "    cols=feature_column[selectFromModel.get_support()].tolist()\n",
    "    print(cols)\n",
    "    return cols"
   ]
  },
  {
   "cell_type": "markdown",
   "metadata": {},
   "source": [
    "### 随机森林\n",
    "是一个广泛使用的特征选择算法，该算法可以计算出每个特征变量的重要性，从而我们可以舍弃重要性低的变量达到将为的目的。"
   ]
  },
  {
   "cell_type": "code",
   "execution_count": 6,
   "metadata": {},
   "outputs": [],
   "source": [
    "from sklearn.ensemble import RandomForestClassifier\n",
    "from sklearn.feature_selection import SelectFromModel\n",
    "def GetFeatureByRandomForest(data,feature_column,score_column,n_components=-1):\n",
    "    model = RandomForestClassifier(random_state=1, max_depth=10)\n",
    "    #train=pd.get_dummies(train)\n",
    "    #print(train)\n",
    "    model.fit(data[feature_column],data[score_column])\n",
    "    #plot the feature importance graph\n",
    "    importances = model.feature_importances_\n",
    "    indices = np.argsort(importances) \n",
    "    plt.title('Feature Importances')\n",
    "    plt.barh(range(len(indices)), importances[indices], color='b', align='center')\n",
    "    plt.yticks(range(len(indices)), [feature_column[i] for i in indices])\n",
    "    plt.xlabel('Relative Importance')\n",
    "    plt.show()\n",
    "    # use the SelectFromModel to selects the features \n",
    "    feature = SelectFromModel(model)\n",
    "    fit = feature.fit_transform(data[feature_column],data[score_column])\n",
    "    column_num = fit.shape[1]\n",
    "    #np.argsort(x) #按升序排列 np.argsort(-x) #按降序排列 取索引\n",
    "    indices = np.argsort(-importances)\n",
    "    cols=feature_column[indices][:n_components].tolist()\n",
    "    auto_select__columns = []\n",
    "    for c in range(column_num):\n",
    "        auto_select__columns.append(feature_column[indices[c]])\n",
    "    print(cols)\n",
    "    print(auto_select__columns)\n",
    "    return cols,auto_select__columns"
   ]
  },
  {
   "cell_type": "markdown",
   "metadata": {},
   "source": [
    "### 反向特征消除\n",
    "先将所有变量用于模型训练，然后在分别去掉其中一个变量再进行训练，如果训练的效果好则舍弃该变量。该方法一般用于构造线性回归或者Logistic回归。"
   ]
  },
  {
   "cell_type": "code",
   "execution_count": 7,
   "metadata": {},
   "outputs": [],
   "source": [
    "# 导入RFE方法和线性回归基模型\n",
    "from sklearn.feature_selection import RFE\n",
    "from sklearn.linear_model import LinearRegression,Ridge,Lasso\n",
    "def BackwardFeatureSelection(data,feature_column,score_column,n_components=-1):\n",
    "    if n_components==-1:\n",
    "        n_components=len(feature_column)\n",
    "    lreg = Ridge(alpha=100000, fit_intercept=True, normalize=True,\n",
    "               copy_X=True, max_iter=1500, tol=1e-4, solver='auto')\n",
    "    #lreg = LinearRegression()  # 选择lin线性回归为基模型\n",
    "    rfe = RFE(\n",
    "        #estimator=LinearRegression(normalize=True),\n",
    "        #estimator=Lasso(normalize=True),\n",
    "        estimator=lreg,\n",
    "        #n_features_to_select=28  # 选区特征数\n",
    "        n_features_to_select = n_components  # 选区特征数\n",
    "    )\n",
    "    # fit 方法训练选择特征属性\n",
    "    #sFeature = rfe.fit_transform(feature, data[\"RON损失（不是变量）\"])\n",
    "    sFeature = rfe.fit_transform(data[feature_column], data[score_column])\n",
    "\n",
    "    # 2d matrix: clonum: opt Value, row:\n",
    "    FRMatrix = sFeature.tolist()\n",
    "    print(rfe.get_support(), \"type is: \", type(rfe.get_support()))\n",
    "    chosenFlags = rfe.get_support().tolist()\n",
    "    #print(chosenFlags)\n",
    "    cols=feature_column[rfe.get_support()].tolist()\n",
    "    print(cols) #查看满足条件的属性\n",
    "    return cols\n"
   ]
  },
  {
   "cell_type": "markdown",
   "metadata": {},
   "source": [
    "### 前向特征选择（Forward Feature Selection）\n",
    "前向特征选择其实就是反向特征消除的相反过程，即找到能改善模型性能的最佳特征，而不是删除弱影响特征。"
   ]
  },
  {
   "cell_type": "code",
   "execution_count": 8,
   "metadata": {},
   "outputs": [],
   "source": [
    "from sklearn.feature_selection import f_regression\n",
    "# 前向特征选择（Forward Feature Selection）前向特征选择其实就是反向特征消除的相反过程，即找到能改善模型性能的最佳特征\n",
    "def ForwardFeatureSelection(data,index_column,score_column,n_components=-1):\n",
    "    df = data.loc[:, index_column]\n",
    "    score_df = data.loc[:, score_column]\n",
    "    #F值越大，p值越小越好，这里我们选择F值大于10的变量\n",
    "    ffs = f_regression(df,score_df )\n",
    "    ffs_dict={}\n",
    "    new_columns = []\n",
    "    for i in range(len(df.columns)):\n",
    "        ffs_dict[df.columns[i]]=ffs[0][i]\n",
    "    ffs_result=sorted(ffs_dict.items(),key=lambda x:x[1],reverse=True)[:n_components]\n",
    "    cols=[it[0] for it in ffs_result]\n",
    "    print(cols)\n",
    "    return cols"
   ]
  },
  {
   "cell_type": "markdown",
   "metadata": {},
   "source": [
    "># 数据降维 "
   ]
  },
  {
   "cell_type": "markdown",
   "metadata": {},
   "source": [
    "### 因子分析（Factor Analysis）"
   ]
  },
  {
   "cell_type": "code",
   "execution_count": 9,
   "metadata": {},
   "outputs": [],
   "source": [
    "from sklearn.decomposition import FactorAnalysis\n",
    "# 因子分析（Factor Analysis），返回降维后的新数据\n",
    "def FactorAnalysisFeatureSelection(data,index_column,n_components=3):\n",
    "    df = data.loc[:, index_column]\n",
    "    fa = FactorAnalysis(n_components=n_components)  # 指定7个因子作为新变量\n",
    "    fa.fit(df)\n",
    "    tran_x = fa.transform(df)\n",
    "    factor_columns = []\n",
    "    for index in range(n_components):\n",
    "        tmp = \"factor\" + str(index + 1)\n",
    "        factor_columns.append(tmp)\n",
    "    tran_df = pd.DataFrame(tran_x, columns=factor_columns)\n",
    "    return tran_df"
   ]
  },
  {
   "cell_type": "markdown",
   "metadata": {},
   "source": [
    "## 基于核函数的非线性降维方法：\n",
    "### 核 PCA（Kernel PCA）\n",
    "KPCA其实是先采用增加多项式等方式提高了数据的维度，再使用标准PCA，寻找一个可以进行有效分类的方向进行投影降维。\n",
    "\n",
    "from sklearn.decomposition import KernelPCA rbf_pca=KernelPCA(n_components=2,kernel='rbf',gamma=0.04) X_reduced=rbf_pca.fit_transform(X)\n",
    "\n",
    "调整超参数： 由于 kPCA 是无监督学习算法，因此没有明显的性能指标可以帮助您选择最佳的核方法和超参数值。但是，降维通常是监督学习任务（例如分类）的准备步骤.\n",
    "\n",
    "引入模型，通过最优化模型表现调参 使用 kPCA 将维度降至低维维，然后应用 Logistic 回归进行分类。然后使用 Grid SearchCV 为 kPCA 找到最佳的核和 gamma 值，以便在最后获得最佳的分类准确性.（引入模型，以最优化模型表现调参）"
   ]
  },
  {
   "cell_type": "code",
   "execution_count": null,
   "metadata": {},
   "outputs": [],
   "source": [
    "from sklearn.model_selection import GridSearchCV \n",
    "from sklearn.linear_model import LinearRegression\n",
    "from sklearn.pipeline import Pipeline\n",
    "from sklearn.naive_bayes import GaussianNB\n",
    "from sklearn.preprocessing import StandardScaler\n",
    "from sklearn.decomposition import KernelPCA\n",
    "print('start...')\n",
    "clf = Pipeline([\n",
    "        ('ss', StandardScaler()),\n",
    "        (\"kpca\", KernelPCA(n_components=num_of_col)),\n",
    "        (\"log_reg\",GaussianNB())\n",
    "        ])\n",
    "    #LogisticRegression(solver=\"lbfgs\",multi_class=\"auto\",max_iter=5000)\n",
    "param_grid = [{\"kpca__gamma\": np.linspace(0.1,0.2, 10),\"kpca__kernel\": [\"rbf\",\"poly\", \"sigmoid\"]}]\n",
    "grid_search = GridSearchCV(clf, param_grid, cv=5)\n",
    "grid_search.fit(X,Y)\n",
    "\n",
    "#通过调用 best_params_ 变量来查看使模型效果最好的核和超参数：\n",
    "best_par=grid_search.best_params_\n",
    "print(best_par)\n",
    "\n",
    "from sklearn.decomposition import KernelPCA\n",
    "print('start...')\n",
    "#best_par={'kpca__gamma': 0.09444444444444444, 'kpca__kernel': 'sigmoid'}\n",
    "rbf_pca=KernelPCA(n_components=num_of_col,kernel=best_par['kpca__kernel'],gamma=best_par['kpca__gamma'])\n",
    "new_X=rbf_pca.fit_transform(X)\n",
    "\n",
    "new_df=pd.DataFrame(np.c_[new_X,Y],columns=col_name)\n",
    "writer = pd.ExcelWriter(os.path.join(drd_path,'data_KPCA.xlsx'))\n",
    "new_df.to_excel(writer,'Sheet1',index=False)\n",
    "writer.save()\n",
    "print('generated data:',new_X.shape)"
   ]
  },
  {
   "cell_type": "markdown",
   "metadata": {},
   "source": [
    "### PCA"
   ]
  },
  {
   "cell_type": "code",
   "execution_count": 9,
   "metadata": {},
   "outputs": [
    {
     "name": "stdout",
     "output_type": "stream",
     "text": [
      "generated data: (4141, 1)\n",
      "[0.87377329]\n",
      "[22721.88191916]\n",
      "9\n"
     ]
    },
    {
     "data": {
      "text/plain": [
       "Text(0.5,1,'Component-wise and Cumulative Explained Variance')"
      ]
     },
     "execution_count": 9,
     "metadata": {},
     "output_type": "execute_result"
    },
    {
     "data": {
      "image/png": "[encoded data removed]",
      "text/plain": [
       "<Figure size 432x288 with 1 Axes>"
      ]
     },
     "metadata": {},
     "output_type": "display_data"
    }
   ],
   "source": [
    "from sklearn.decomposition import PCA\n",
    "#PCA数据降维\n",
    "pca = PCA(n_components=num_of_col)  # n_components：目标维度\n",
    "pca.fit(X)\n",
    "#降维后数据\n",
    "new_X = pca.fit_transform(X)\n",
    "\n",
    "new_df=pd.DataFrame(np.c_[new_X,Y],columns=col_name)\n",
    "writer = pd.ExcelWriter(os.path.join(drd_path,'data_PCA.xlsx'))\n",
    "new_df.to_excel(writer,'Sheet1',index=False)\n",
    "writer.save()\n",
    "print('generated data:',new_X.shape)\n",
    "\n",
    "print(pca.explained_variance_ratio_)  #输出贡献率\n",
    "print(pca.explained_variance_)  # 输出方差值，方差值越大，表明越重要\n",
    "print(pca.n_features_)\n",
    "#print(pca.n_features_in_)\n",
    "plt.plot(range(num_of_col), pca.explained_variance_ratio_)\n",
    "plt.plot(range(num_of_col), np.cumsum(pca.explained_variance_ratio_))\n",
    "plt.title(\"Component-wise and Cumulative Explained Variance\")"
   ]
  },
  {
   "cell_type": "markdown",
   "metadata": {},
   "source": [
    "## 线性降维方法：\n",
    "### LDA降维（线性判别分析）\n",
    "是有监督的线性分类器： fit()\n",
    "\n",
    "LDA与PCA最大区别：最大化类间样本的方差，最小化类内样本的方差"
   ]
  },
  {
   "cell_type": "code",
   "execution_count": 10,
   "metadata": {},
   "outputs": [
    {
     "name": "stdout",
     "output_type": "stream",
     "text": [
      "generated data: (4141, 1)\n",
      "[0.83598521]\n"
     ]
    }
   ],
   "source": [
    "from sklearn.discriminant_analysis import LinearDiscriminantAnalysis as LDA\n",
    "lda = LDA( n_components=num_of_col).fit(X, Y)\n",
    "new_X = lda.transform(X)\n",
    "\n",
    "new_df=pd.DataFrame(np.c_[new_X,Y],columns=col_name)\n",
    "writer = pd.ExcelWriter(os.path.join(drd_path,'data_LDA.xlsx'))\n",
    "new_df.to_excel(writer,'Sheet1',index=False)\n",
    "writer.save()\n",
    "print('generated data:',new_X.shape)\n",
    "print(lda.explained_variance_ratio_)"
   ]
  },
  {
   "cell_type": "markdown",
   "metadata": {},
   "source": [
    "## 基于特征值的非线性降维方法（流型学习）：\n",
    "### LLE 局部线性嵌入\n",
    "局部线性嵌入(Locally Linear Embedding，以下简称LLE)，也是流形学习算法，LLE关注于降维时保持样本局部的线性关系，由于LLE在降维时保持了样本的局部关系，它广泛的用于图像图像识别，高维数据可视化等领域。"
   ]
  },
  {
   "cell_type": "code",
   "execution_count": null,
   "metadata": {},
   "outputs": [],
   "source": [
    "#delete\n",
    "\n",
    "from sklearn import manifold\n",
    "#se = manifold.SpectralEmbedding(n_components=num_of_col, n_neighbors=10)\n",
    "#Y = se.fit_transform(X)\n",
    "new_X, err = manifold.locally_linear_embedding(X, n_neighbors=12,\n",
    "                                             n_components=num_of_col)\n",
    "print(\"Done. Reconstruction error: %g\" % err)\n",
    "\n",
    "new_df=pd.DataFrame(np.c_[new_X,Y],columns=col_name)\n",
    "writer = pd.ExcelWriter(os.path.join(drd_path,'data_LLE.xlsx'))\n",
    "new_df.to_excel(writer,'Sheet1',index=False)\n",
    "writer.save()\n",
    "print('generated data:',new_X.shape)"
   ]
  },
  {
   "cell_type": "markdown",
   "metadata": {},
   "source": [
    "### t-SNE\n",
    "n_components应该小于4，因为它依赖于四叉树或oct树。"
   ]
  },
  {
   "cell_type": "code",
   "execution_count": 11,
   "metadata": {},
   "outputs": [
    {
     "name": "stdout",
     "output_type": "stream",
     "text": [
      "generated data: (4141, 1)\n"
     ]
    },
    {
     "data": {
      "image/png": "[encoded data removed]",
      "text/plain": [
       "<Figure size 864x576 with 1 Axes>"
      ]
     },
     "metadata": {},
     "output_type": "display_data"
    }
   ],
   "source": [
    "from sklearn.manifold import TSNE \n",
    "cols=3 if num_of_col>3 else num_of_col\n",
    "new_X = TSNE(n_components=cols, n_iter=300).fit_transform(X)\n",
    "\n",
    "new_df=pd.DataFrame(np.c_[new_X,Y],columns=col_name)\n",
    "writer = pd.ExcelWriter(os.path.join(drd_path,'data_tSNE.xlsx'))\n",
    "new_df.to_excel(writer,'Sheet1',index=False)\n",
    "writer.save()\n",
    "print('generated data:',new_X.shape)\n",
    "\n",
    "if num_of_col<=3:\n",
    "    plt.figure(figsize=(12,8))\n",
    "    plt.title('t-SNE components')\n",
    "    tsne=new_X\n",
    "    for i in range(num_of_col):\n",
    "        plt.scatter(tsne[:,i], tsne[:,(i+1)%num_of_col])"
   ]
  },
  {
   "cell_type": "markdown",
   "metadata": {},
   "source": [
    "### ISOMAP流形学习\n",
    "流形学习是非线性降维的主要方法，是MDS在流形学习上的扩展，将非欧几里德空间转换从欧几里德空间\n",
    "\n",
    "使用的参数：\n",
    "\n",
    "n_neighbors：决定每个点的相邻点数\n",
    "\n",
    "n_components：决定流形的坐标数\n",
    "\n",
    "n_jobs = -1：使用所有可用的CPU核心"
   ]
  },
  {
   "cell_type": "code",
   "execution_count": 12,
   "metadata": {},
   "outputs": [
    {
     "name": "stdout",
     "output_type": "stream",
     "text": [
      "generated data: (4141, 1)\n"
     ]
    }
   ],
   "source": [
    "from sklearn.manifold import Isomap\n",
    "new_X= Isomap(n_neighbors=5, n_components=num_of_col, n_jobs=-1).fit_transform(X)\n",
    "\n",
    "new_df=pd.DataFrame(np.c_[new_X,Y],columns=col_name)\n",
    "writer = pd.ExcelWriter(os.path.join(drd_path,'data_ISOMAP.xlsx'))\n",
    "new_df.to_excel(writer,'Sheet1',index=False)\n",
    "writer.save()\n",
    "print('generated data:',new_X.shape)"
   ]
  },
  {
   "cell_type": "markdown",
   "metadata": {},
   "source": [
    "### MDS降维（多维标度法）"
   ]
  },
  {
   "cell_type": "code",
   "execution_count": 13,
   "metadata": {},
   "outputs": [
    {
     "name": "stdout",
     "output_type": "stream",
     "text": [
      "generated data: (4141, 1)\n"
     ]
    }
   ],
   "source": [
    "from sklearn.manifold import MDS\n",
    "mds = MDS( n_components=num_of_col, metric=True)\n",
    "new_X = mds.fit_transform(X)\n",
    "\n",
    "new_df=pd.DataFrame(np.c_[new_X,Y],columns=col_name)\n",
    "writer = pd.ExcelWriter(os.path.join(drd_path,'data_MDS.xlsx'))\n",
    "new_df.to_excel(writer,'Sheet1',index=False)\n",
    "writer.save()\n",
    "print('generated data:',new_X.shape)"
   ]
  },
  {
   "cell_type": "markdown",
   "metadata": {},
   "source": [
    "## 无监督：\n",
    "### 独立成分分析法（ICA）\n",
    "是基于信息理论的一种常用的降维方法，其与PCA主要的不同是PCA是寻找不相关的变量，而ICA是挑选独立变量。如果两个变量不相关，它们之间就没有线性关系。如果它们是独立的，它们就不依赖于其他变量。同时PCA主要对于高斯分布数据比较有效，而ICA适用于其他分布。我们可以调用sklearn中的FastICA函数来进行数据独立成分分析。"
   ]
  },
  {
   "cell_type": "code",
   "execution_count": 14,
   "metadata": {},
   "outputs": [
    {
     "name": "stdout",
     "output_type": "stream",
     "text": [
      "generated data: (4141, 1)\n"
     ]
    }
   ],
   "source": [
    "from sklearn.decomposition import FastICA\n",
    "#独立分量分析（ICA）PCA和ICA之间的主要区别在于，PCA寻找不相关的因素，而ICA寻找独立因素。\n",
    "ICA = FastICA(n_components=num_of_col, random_state=12)\n",
    "new_X = ICA.fit_transform(X)\n",
    "\n",
    "new_df=pd.DataFrame(np.c_[new_X,Y],columns=col_name)\n",
    "writer = pd.ExcelWriter(os.path.join(drd_path,'data_ICA.xlsx'))\n",
    "new_df.to_excel(writer,'Sheet1',index=False)\n",
    "writer.save()\n",
    "print('generated data:',new_X.shape)"
   ]
  },
  {
   "cell_type": "markdown",
   "metadata": {},
   "source": [
    "### LE 拉普拉斯特征映射"
   ]
  },
  {
   "cell_type": "code",
   "execution_count": null,
   "metadata": {},
   "outputs": [],
   "source": [
    "from sklearn.manifold import SpectralEmbedding\n",
    "se = SpectralEmbedding(n_components=num_of_col, n_neighbors=10)\n",
    "new_X = se.fit_transform(X)\n",
    "new_df=pd.DataFrame(np.c_[new_X,Y],columns=col_name)\n",
    "writer = pd.ExcelWriter(os.path.join(drd_path,'data_LE.xlsx'))\n",
    "new_df.to_excel(writer,'Sheet1',index=False)\n",
    "writer.save()\n",
    "print('generated data:',new_X.shape)"
   ]
  }
 ],
 "metadata": {
  "kernelspec": {
   "display_name": "Python 3 (ipykernel)",
   "language": "python",
   "name": "python3"
  },
  "language_info": {
   "codemirror_mode": {
    "name": "ipython",
    "version": 3
   },
   "file_extension": ".py",
   "mimetype": "text/x-python",
   "name": "python",
   "nbconvert_exporter": "python",
   "pygments_lexer": "ipython3",
   "version": "3.8.8"
  }
 },
 "nbformat": 4,
 "nbformat_minor": 1
}

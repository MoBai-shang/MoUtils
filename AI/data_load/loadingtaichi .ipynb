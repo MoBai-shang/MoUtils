{
 "cells": [
  {
   "cell_type": "code",
   "execution_count": 2,
   "metadata": {
    "_cell_guid": "b1076dfc-b9ad-4769-8c92-a6c4dae69d19",
    "_uuid": "8f2839f25d086af736a60e9eeb907d3b93b6e0e5",
    "execution": {
     "iopub.execute_input": "2022-05-24T06:51:15.170034Z",
     "iopub.status.busy": "2022-05-24T06:51:15.169749Z",
     "iopub.status.idle": "2022-05-24T06:51:18.847224Z",
     "shell.execute_reply": "2022-05-24T06:51:18.845739Z",
     "shell.execute_reply.started": "2022-05-24T06:51:15.169999Z"
    }
   },
   "outputs": [],
   "source": [
    "'''!git clone https://github.com/AliaksandrSiarohin/video-preprocessing\n",
    "!wget https://yt-dl.org/downloads/latest/youtube-dl -O youtube-dl\n",
    "!chmod a+rx youtube-dl'''"
   ]
  },
  {
   "cell_type": "code",
   "execution_count": 1,
   "metadata": {
    "execution": {
     "iopub.execute_input": "2022-05-24T06:51:21.413850Z",
     "iopub.status.busy": "2022-05-24T06:51:21.413478Z",
     "iopub.status.idle": "2022-05-24T06:51:21.551096Z",
     "shell.execute_reply": "2022-05-24T06:51:21.550185Z",
     "shell.execute_reply.started": "2022-05-24T06:51:21.413811Z"
    }
   },
   "outputs": [],
   "source": [
    "import os\n",
    "import pandas as pd\n",
    "import subprocess\n",
    "from itertools import cycle\n",
    "from multiprocessing import Pool\n",
    "from tqdm.auto import tqdm\n",
    "DEVNULL = open(os.devnull, 'wb')\n",
    "def run(paras):\n",
    "    download(*paras)\n",
    "def download(video_id,youtube,video_folder):\n",
    "    video_id=video_id.split('#')[0]\n",
    "    video_path = os.path.join(video_folder, video_id + \".mp4\")\n",
    "    if os.path.exists(video_path):\n",
    "        return\n",
    "    subprocess.call([youtube, '-f', \"''best/mp4''\", '--write-auto-sub', '--write-sub',\n",
    "                     '--sub-lang', 'en', '--skip-unavailable-fragments',\n",
    "                     \"https://www.youtube.com/watch?v=\" + video_id, \"--output\",\n",
    "                     video_path], stdout=DEVNULL, stderr=DEVNULL)\n",
    "    return video_path\n",
    "\n",
    "def load_video(metadata,video_folder,youtube,workers:int=1):\n",
    "    if not os.path.exists(video_folder):\n",
    "        os.makedirs(video_folder)\n",
    "    df = pd.read_csv(metadata)\n",
    "    pool = Pool(processes=8)\n",
    "    youtubes=cycle([youtube])\n",
    "    video_folders=cycle([video_folder])\n",
    "    video_ids = set(df['video_id'])\n",
    "    for chunks_data in tqdm(pool.imap_unordered(run, zip(video_ids,youtubes,video_folders))):\n",
    "        None\n",
    "    "
   ]
  },
  {
   "cell_type": "code",
   "execution_count": null,
   "metadata": {
    "execution": {
     "iopub.execute_input": "2022-05-24T06:51:25.213360Z",
     "iopub.status.busy": "2022-05-24T06:51:25.213047Z"
    }
   },
   "outputs": [
    {
     "data": {
      "application/vnd.jupyter.widget-view+json": {
       "model_id": "0b098257f4f842759c366c8bdc0b88fe",
       "version_major": 2,
       "version_minor": 0
      },
      "text/plain": [
       "0it [00:00, ?it/s]"
      ]
     },
     "metadata": {},
     "output_type": "display_data"
    }
   ],
   "source": [
    "load_video('./data/taichi-metadata.csv',\n",
    "           'video_folder',\n",
    "           './data/youtube-dl',8)"
   ]
  },
  {
   "cell_type": "code",
   "execution_count": null,
   "metadata": {},
   "outputs": [],
   "source": []
  },
  {
   "cell_type": "code",
   "execution_count": null,
   "metadata": {},
   "outputs": [],
   "source": []
  },
  {
   "cell_type": "code",
   "execution_count": null,
   "metadata": {},
   "outputs": [],
   "source": []
  },
  {
   "cell_type": "code",
   "execution_count": null,
   "metadata": {},
   "outputs": [],
   "source": [
    "import numpy as np\n",
    "import pandas as pd\n",
    "import imageio\n",
    "import os\n",
    "import subprocess\n",
    "from multiprocessing import Pool\n",
    "from itertools import cycle\n",
    "import warnings\n",
    "import glob\n",
    "import time\n",
    "from tqdm import tqdm\n",
    "from argparse import ArgumentParser\n",
    "\n",
    "warnings.filterwarnings(\"ignore\")\n",
    "\n",
    "DEVNULL = open(os.devnull, 'wb')\n",
    "\n",
    "def download(video_id, args):\n",
    "    video_path = os.path.join(args.video_folder, video_id + \".mp4\")\n",
    "    subprocess.call([args.youtube, '-f', \"''best/mp4''\", '--write-auto-sub', '--write-sub',\n",
    "                     '--sub-lang', 'en', '--skip-unavailable-fragments',\n",
    "                     \"https://www.youtube.com/watch?v=\" + video_id, \"--output\",\n",
    "                     video_path], stdout=DEVNULL, stderr=DEVNULL)\n",
    "    return video_path\n",
    "\n",
    "\n",
    "def run(data):\n",
    "    video_id, args = data\n",
    "    if not os.path.exists(os.path.join(args.video_folder, video_id.split('#')[0] + '.mp4')):\n",
    "       download(video_id.split('#')[0], args)\n",
    "\n",
    "    if not os.path.exists(os.path.join(args.video_folder, video_id.split('#')[0] + '.mp4')):\n",
    "       print ('Can not load video %s, broken link' % video_id.split('#')[0])\n",
    "    return \n",
    "    reader = imageio.get_reader(os.path.join(args.video_folder, video_id.split('#')[0] + '.mp4'))\n",
    "    fps = reader.get_meta_data()['fps']\n",
    "\n",
    "    df = pd.read_csv(args.metadata)\n",
    "    df = df[df['video_id'] == video_id]\n",
    "    \n",
    "    all_chunks_dict = [{'start': df['start'].iloc[j], 'end': df['end'].iloc[j],\n",
    "                        'bbox': list(map(int, df['bbox'].iloc[j].split('-'))), 'frames':[]} for j in range(df.shape[0])]\n",
    "    ref_fps = df['fps'].iloc[0]\n",
    "    ref_height = df['height'].iloc[0]\n",
    "    ref_width = df['width'].iloc[0]\n",
    "    partition = df['partition'].iloc[0]\n",
    "    try:\n",
    "        for i, frame in enumerate(reader):\n",
    "            for entry in all_chunks_dict:\n",
    "                if (i * ref_fps >= entry['start'] * fps) and (i * ref_fps < entry['end'] * fps):\n",
    "                    left, top, right, bot = entry['bbox']\n",
    "                    left = int(left / (ref_width / frame.shape[1]))\n",
    "                    top = int(top / (ref_height / frame.shape[0]))\n",
    "                    right = int(right / (ref_width / frame.shape[1]))\n",
    "                    bot = int(bot / (ref_height / frame.shape[0]))\n",
    "                    crop = frame[top:bot, left:right]\n",
    "                    if args.image_shape is not None:\n",
    "                       crop = img_as_ubyte(resize(crop, args.image_shape, anti_aliasing=True))\n",
    "                    entry['frames'].append(crop)\n",
    "    except imageio.core.format.CannotReadFrameError:\n",
    "        None\n",
    "\n",
    "    for entry in all_chunks_dict:\n",
    "        if 'person_id' in df:\n",
    "            first_part = df['person_id'].iloc[0] + \"#\"\n",
    "        else:\n",
    "            first_part = \"\"\n",
    "        first_part = first_part + '#'.join(video_id.split('#')[::-1])\n",
    "        path = first_part + '#' + str(entry['start']).zfill(6) + '#' + str(entry['end']).zfill(6) + '.mp4'\n",
    "        save(os.path.join(args.out_folder, partition, path), entry['frames'], args.format)\n",
    "\n",
    "\n",
    "video_folder='video_folder'\n",
    "metadata='./video-preprocessing/taichi-metadata.csv'\n",
    "if not os.path.exists(video_folder):\n",
    "    os.makedirs(video_folder)\n",
    "df = pd.read_csv(metadata)\n",
    "video_ids = set(df['video_id'])\n",
    "pool = Pool(processes=8)\n",
    "args_list = cycle([args])\n",
    "for chunks_data in tqdm(pool.imap_unordered(run, zip(video_ids, args_list))):\n",
    "    None  \n"
   ]
  },
  {
   "cell_type": "code",
   "execution_count": null,
   "metadata": {},
   "outputs": [],
   "source": []
  }
 ],
 "metadata": {
  "kernelspec": {
   "display_name": "Python 3 (ipykernel)",
   "language": "python",
   "name": "python3"
  },
  "language_info": {
   "codemirror_mode": {
    "name": "ipython",
    "version": 3
   },
   "file_extension": ".py",
   "mimetype": "text/x-python",
   "name": "python",
   "nbconvert_exporter": "python",
   "pygments_lexer": "ipython3",
   "version": "3.8.8"
  }
 },
 "nbformat": 4,
 "nbformat_minor": 4
}

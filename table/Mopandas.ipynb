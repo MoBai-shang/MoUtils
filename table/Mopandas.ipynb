{
 "cells": [
  {
   "cell_type": "code",
   "execution_count": 4,
   "id": "d9631a9c",
   "metadata": {},
   "outputs": [],
   "source": [
    "import pandas as pd\n",
    "def stratified_sample(df_or_file,col_key,n:int=-1,frac:float=-1,save_file:str=''):\n",
    "    #对df数据或文件分层抽样\n",
    "    if isinstance(df_or_file,str):\n",
    "        df = pd.read_excel(df_file)\n",
    "    else:\n",
    "        df=df_or_file\n",
    "    data_counts = df[col_key].value_counts(normalize=False)\n",
    "    if frac>0:\n",
    "        frac=min(1,frac)\n",
    "    elif n>0:\n",
    "        frac=min(1,n/len(df))\n",
    "    else:\n",
    "        frac=1\n",
    "    typicalFracDict = dict([(flag, frac) for flag, values in data_counts.items()])\n",
    "    typicalSampling=lambda group, typicalFracDict:group.sample(frac=typicalFracDict[group.name])\n",
    "    result = df.groupby(col_key, group_keys=False).apply(typicalSampling, typicalFracDict)\n",
    "    if save_file!='':\n",
    "        result.to_csv(save_file)\n",
    "    return result"
   ]
  },
  {
   "cell_type": "markdown",
   "id": "2cd6e3c5",
   "metadata": {},
   "source": [
    "# 字符串分割转数字"
   ]
  },
  {
   "cell_type": "code",
   "execution_count": 8,
   "id": "6f469111",
   "metadata": {},
   "outputs": [
    {
     "name": "stdout",
     "output_type": "stream",
     "text": [
      "          0\n",
      "0  12-32-45\n",
      "0    [12, 32, 45]\n",
      "Name: 0, dtype: object\n"
     ]
    }
   ],
   "source": [
    "df=pd.DataFrame(['12-32-45'])\n",
    "print(df)\n",
    "df=df[0].str.split('-').apply(pd.to_numeric)\n",
    "print(df)"
   ]
  },
  {
   "cell_type": "markdown",
   "id": "7dace8e0",
   "metadata": {},
   "source": [
    "# 转字典"
   ]
  },
  {
   "cell_type": "code",
   "execution_count": 3,
   "id": "b86a5343",
   "metadata": {},
   "outputs": [
    {
     "name": "stdout",
     "output_type": "stream",
     "text": [
      "   A  B  C\n",
      "0  1  4  7\n",
      "1  2  5  8\n",
      "2  3  6  9\n",
      "dict ……\n",
      "{'A': {0: 1, 1: 2, 2: 3}, 'B': {0: 4, 1: 5, 2: 6}, 'C': {0: 7, 1: 8, 2: 9}}\n",
      "\n",
      "list ……\n",
      "{'A': [1, 2, 3], 'B': [4, 5, 6], 'C': [7, 8, 9]}\n",
      "\n",
      "series ……\n",
      "{'A': 0    1\n",
      "1    2\n",
      "2    3\n",
      "Name: A, dtype: int64, 'B': 0    4\n",
      "1    5\n",
      "2    6\n",
      "Name: B, dtype: int64, 'C': 0    7\n",
      "1    8\n",
      "2    9\n",
      "Name: C, dtype: int64}\n",
      "\n",
      "split ……\n",
      "{'index': [0, 1, 2], 'columns': ['A', 'B', 'C'], 'data': [[1, 4, 7], [2, 5, 8], [3, 6, 9]]}\n",
      "\n",
      "records ……\n",
      "[{'A': 1, 'B': 4, 'C': 7}, {'A': 2, 'B': 5, 'C': 8}, {'A': 3, 'B': 6, 'C': 9}]\n",
      "\n",
      "index ……\n",
      "{0: {'A': 1, 'B': 4, 'C': 7}, 1: {'A': 2, 'B': 5, 'C': 8}, 2: {'A': 3, 'B': 6, 'C': 9}}\n",
      "\n"
     ]
    }
   ],
   "source": [
    "import pandas as pd\n",
    "key=['dict','list','series','split','records','index']\n",
    "df=pd.DataFrame({'A':[1,2,3],'B':[4,5,6],'C':[7,8,9]})\n",
    "print(df)\n",
    "for k in key:\n",
    "    print(k,'……')\n",
    "    print(df.to_dict(orient=k))\n",
    "    print()"
   ]
  }
 ],
 "metadata": {
  "kernelspec": {
   "display_name": "Python 3 (ipykernel)",
   "language": "python",
   "name": "python3"
  },
  "language_info": {
   "codemirror_mode": {
    "name": "ipython",
    "version": 3
   },
   "file_extension": ".py",
   "mimetype": "text/x-python",
   "name": "python",
   "nbconvert_exporter": "python",
   "pygments_lexer": "ipython3",
   "version": "3.8.8"
  }
 },
 "nbformat": 4,
 "nbformat_minor": 5
}

{
 "cells": [
  {
   "cell_type": "code",
   "execution_count": 1,
   "id": "73a0e43c",
   "metadata": {},
   "outputs": [],
   "source": [
    "#压缩文件夹或多个文件\n",
    "def mo_zip(dir_or_files,save_zip:str='mozip.zip',remove_source:bool=False):\n",
    "    from tqdm.auto import tqdm\n",
    "    if '.' not in save_zip:\n",
    "        save_zip=save_zip+'.zip'\n",
    "    if isinstance(dir_or_files,str):\n",
    "        base_dir=os.path.dirname(dir_or_files)\n",
    "        dir_catch=[dir_or_files]\n",
    "        with zipfile.ZipFile(save_zip, 'w', zipfile.ZIP_DEFLATED) as azip:\n",
    "            for dir_path, dir_names, file_names in tqdm(os.walk(dir_or_files)):\n",
    "                dir_catch.extend([os.path.join(dir_path,dir) for dir in dir_names])\n",
    "                f_path = dir_path.replace(base_dir, '')\n",
    "                for filename in file_names:\n",
    "                    azip.write(os.path.join(dir_path, filename), os.path.join(f_path,filename))\n",
    "                    if remove_source:\n",
    "                        os.remove(os.path.join(dir_path, filename))\n",
    "        if remove_source:\n",
    "            dir_catch.reverse()\n",
    "            for empty in dir_catch:\n",
    "                os.rmdir(empty)\n",
    "    else:\n",
    "        with zipfile.ZipFile(save_zip, 'w', zipfile.ZIP_DEFLATED) as azip:\n",
    "            for file_name in tqdm(dir_or_files):\n",
    "                azip.write(file_name)\n",
    "                if remove_source:\n",
    "                    os.remove(file_name)\n",
    "#解压\n",
    "def mo_unzip(zip,dir:str=None):\n",
    "    from tqdm.auto import tqdm\n",
    "    with zipfile.ZipFile(zip, 'r') as fz:\n",
    "        for file in tqdm(fz.namelist()):\n",
    "            try:\n",
    "                fz.extract(file, dir)\n",
    "            except:\n",
    "                print(i,'%s extract failed!'%file)\n"
   ]
  }
 ],
 "metadata": {
  "kernelspec": {
   "display_name": "Python 3 (ipykernel)",
   "language": "python",
   "name": "python3"
  },
  "language_info": {
   "codemirror_mode": {
    "name": "ipython",
    "version": 3
   },
   "file_extension": ".py",
   "mimetype": "text/x-python",
   "name": "python",
   "nbconvert_exporter": "python",
   "pygments_lexer": "ipython3",
   "version": "3.8.8"
  }
 },
 "nbformat": 4,
 "nbformat_minor": 5
}
